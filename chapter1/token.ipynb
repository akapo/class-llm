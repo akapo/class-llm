{
  "nbformat": 4,
  "nbformat_minor": 0,
  "metadata": {
    "colab": {
      "provenance": [],
      "authorship_tag": "ABX9TyNtC2gz4FY6WgrTi2jBh5dK",
      "include_colab_link": true
    },
    "kernelspec": {
      "name": "python3",
      "display_name": "Python 3"
    },
    "language_info": {
      "name": "python"
    }
  },
  "cells": [
    {
      "cell_type": "markdown",
      "metadata": {
        "id": "view-in-github",
        "colab_type": "text"
      },
      "source": [
        "<a href=\"https://colab.research.google.com/github/akapo/class-llm/blob/main/chapter1/token.ipynb\" target=\"_parent\"><img src=\"https://colab.research.google.com/assets/colab-badge.svg\" alt=\"Open In Colab\"/></a>"
      ]
    },
    {
      "cell_type": "markdown",
      "source": [
        "OpenAI tiktoken 파이썬 패키지 설치"
      ],
      "metadata": {
        "id": "Mb6DzQKIcZya"
      }
    },
    {
      "cell_type": "code",
      "execution_count": null,
      "metadata": {
        "colab": {
          "base_uri": "https://localhost:8080/"
        },
        "id": "-lSm6-8bM0JU",
        "outputId": "00730ec2-ae1e-442f-8876-e59f61789cb6"
      },
      "outputs": [
        {
          "output_type": "stream",
          "name": "stdout",
          "text": [
            "Requirement already satisfied: tiktoken in /usr/local/lib/python3.10/dist-packages (0.7.0)\n",
            "Requirement already satisfied: regex>=2022.1.18 in /usr/local/lib/python3.10/dist-packages (from tiktoken) (2024.5.15)\n",
            "Requirement already satisfied: requests>=2.26.0 in /usr/local/lib/python3.10/dist-packages (from tiktoken) (2.31.0)\n",
            "Requirement already satisfied: charset-normalizer<4,>=2 in /usr/local/lib/python3.10/dist-packages (from requests>=2.26.0->tiktoken) (3.3.2)\n",
            "Requirement already satisfied: idna<4,>=2.5 in /usr/local/lib/python3.10/dist-packages (from requests>=2.26.0->tiktoken) (3.7)\n",
            "Requirement already satisfied: urllib3<3,>=1.21.1 in /usr/local/lib/python3.10/dist-packages (from requests>=2.26.0->tiktoken) (2.0.7)\n",
            "Requirement already satisfied: certifi>=2017.4.17 in /usr/local/lib/python3.10/dist-packages (from requests>=2.26.0->tiktoken) (2024.7.4)\n"
          ]
        }
      ],
      "source": [
        "!pip install tiktoken"
      ]
    },
    {
      "cell_type": "markdown",
      "source": [
        "모델에 따라서 토큰을 자르는 방법이 다르다.  \n",
        "gpt-3.5와 gpt-4의 토근 구분법이 다르므로 같은 문장이라도 토큰 수가 다르게 나올 수 있다."
      ],
      "metadata": {
        "id": "SPvJY_kri1y0"
      }
    },
    {
      "cell_type": "code",
      "source": [
        "import tiktoken\n",
        "\n",
        "text= \"Every cultural group has its own language and writing system.\"\n",
        "encoding = tiktoken.encoding_for_model(\"gpt-4o\")\n",
        "tokens = encoding.encode(text)\n",
        "print(tokens)\n",
        "print(len(tokens))\n",
        "\n",
        "text= \"각각의 문화 공동체는 자신만의 언어와 문자 체계를 갖는다.\"\n",
        "encoding = tiktoken.encoding_for_model(\"gpt-4o\")\n",
        "tokens = encoding.encode(text)\n",
        "print(tokens)\n",
        "print(len(tokens))"
      ],
      "metadata": {
        "colab": {
          "base_uri": "https://localhost:8080/"
        },
        "id": "OuRoYCA3h_ts",
        "outputId": "06e75b93-870d-4df7-98b4-9ec12dd1a57f"
      },
      "execution_count": null,
      "outputs": [
        {
          "output_type": "stream",
          "name": "stdout",
          "text": [
            "[15745, 15186, 3566, 853, 1617, 2316, 6439, 326, 5281, 2420, 13]\n",
            "11\n",
            "[22566, 22566, 3408, 123028, 164451, 16238, 2770, 62159, 10452, 3408, 69163, 5959, 12753, 132568, 55005, 173370, 95933, 125225, 13]\n",
            "19\n"
          ]
        }
      ]
    },
    {
      "cell_type": "markdown",
      "source": [
        "[결과분석]  \n",
        "텍스트는 OpenAI가 정의한 규칙에 의해 여러개의 토큰으로 잘리게 되고 각 토큰은 일련번호 형태로 처리된다.  \n",
        "위 예제에서 영문 텍스트와 한글 텍스트는 완전히 동일한 의미이다. 하지만 영문 텍스트는 11토큰, 한글 텍스트는 19토큰으로 분할되어 한글이 영문에 비해 72%나 많은 토큰이 사용되었다.  \n",
        "입력 토큰 수와 출력 토큰 수는 과금의 기준이 된다. 한국어가 영어에 비해 매우 불리한 구조!!"
      ],
      "metadata": {
        "id": "2L6rW6wqjKvM"
      }
    }
  ]
}